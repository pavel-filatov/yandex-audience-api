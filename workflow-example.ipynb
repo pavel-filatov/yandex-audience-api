{
 "cells": [
  {
   "cell_type": "code",
   "execution_count": null,
   "metadata": {},
   "outputs": [],
   "source": [
    "import hashlib\n",
    "import cx_Oracle\n",
    "import pandas as pd\n",
    "import datetime\n",
    "import yaaudience    "
   ]
  },
  {
   "cell_type": "markdown",
   "metadata": {},
   "source": [
    "### Constants"
   ]
  },
  {
   "cell_type": "code",
   "execution_count": null,
   "metadata": {},
   "outputs": [],
   "source": [
    "c_ya_token = \"<YANDEX_OAUTH_TOKEN>\"\n",
    "c_ora_connect_string = \"<LOGIN>/<PASSWORD>@<TNS_NAME>\"\n",
    "c_data_filename = \"/tmp/ya_data.csv\"\n",
    "c_clear_data_filename = \"/tmp/clear_ya_data.csv\""
   ]
  },
  {
   "cell_type": "code",
   "execution_count": null,
   "metadata": {},
   "outputs": [],
   "source": [
    "# Parameters, CHANGE IT for your purpose\n",
    "p_segment_name = 'mac_hashed_test1'\n",
    "\n",
    "p_data_type = 'mac' # use one of {'phone', 'email', 'mac'}\n",
    "p_data_hashed = False # use True of False\n",
    "\n",
    "p_db_export_query = \"\"\" \n",
    "select mac_address from cusomers\n",
    "\"\"\""
   ]
  },
  {
   "cell_type": "markdown",
   "metadata": {},
   "source": [
    "### Extracting data from DB"
   ]
  },
  {
   "cell_type": "code",
   "execution_count": null,
   "metadata": {},
   "outputs": [],
   "source": [
    "try:\n",
    "    print('START')\n",
    "    # Extract data from Database\n",
    "    print(\"  start extracting data from DB\")\n",
    "    start = datetime.datetime.now()\n",
    "    conn = None\n",
    "    try:\n",
    "        conn = cx_Oracle.connect(c_ora_connect_string, encoding = \"UTF-8\", nencoding = \"UTF-8\")\n",
    "        df = pd.read_sql(p_db_export_query, con=conn)\n",
    "        df.to_csv(c_data_filename, sep=',', header=False, index=False)    \n",
    "    finally:\n",
    "        if conn is not None:\n",
    "            conn.close()\n",
    "    exec_time = datetime.datetime.now() - start        \n",
    "    print(\"    Elasped time: \" + str(exec_time))\n",
    "    print(\"  end extracting data from DB\")\n",
    "\n",
    "    # Clearing and hashing extracted data\n",
    "    print(\"  start clearing/hashing data\")    \n",
    "    start = datetime.datetime.now()\n",
    "    df = pd.read_csv(c_data_filename, header=None, dtype='str')\n",
    "    df = df.applymap(lambda x: x.lower()) #transform entire dataframe to lowercase\n",
    "    \n",
    "    if p_data_type == 'phone':    \n",
    "        df = df.replace('[^\\d.]+', '',regex=True)\n",
    "    elif p_data_type == 'mac':        \n",
    "        df = df.replace('[;:,-\\.]+', '',regex=True)    \n",
    "        \n",
    "    if p_data_hashed:\n",
    "        if p_data_type != 'mac':\n",
    "            df = df.applymap(lambda x: hashlib.md5(x.encode('utf-8')).hexdigest()) \n",
    "        else:\n",
    "            df = df.applymap(lambda x: hashlib.md5(bytes.fromhex(x)).hexdigest()) \n",
    "            \n",
    "    df.to_csv(c_clear_data_filename, sep=',', header=False, index=False)    \n",
    "    print(\"    Elasped time: \" + str(exec_time))\n",
    "    print(\"  end clearing/hashing data\")\n",
    "    \n",
    "except Exception as e:\n",
    "    print('!!! Unexpected error: ' + str(e))\n",
    "finally:\n",
    "    print('FINISH')"
   ]
  },
  {
   "cell_type": "markdown",
   "metadata": {},
   "source": [
    "### Send data to Yandex.Audience"
   ]
  },
  {
   "cell_type": "code",
   "execution_count": null,
   "metadata": {},
   "outputs": [],
   "source": [
    "try:\n",
    "    print('START')\n",
    "    print(\"  start uploading segment data\")\n",
    "    start = datetime.datetime.now()\n",
    "    ya = yaaudience.YaAudience(token=c_ya_token, debug=False)\n",
    "    \n",
    "    ya_segment_confirmed = None\n",
    "    with open(c_clear_data_filename, 'r') as data_file:\n",
    "        ya_segment_file_uploaded = ya.segments_upload_file(data_file)\n",
    "        print(ya_segment_file_uploaded)\n",
    "        \n",
    "        ya_segment_confirmed = ya.segment_confirm(segment_id=ya_segment_file_uploaded.id, \n",
    "                                                  segment_name=p_segment_name, \n",
    "                                                  content_type=p_data_type, \n",
    "                                                  hashed=p_data_hashed)\n",
    "        print(ya_segment_confirmed)\n",
    "        \n",
    "    exec_time = datetime.datetime.now() - start  \n",
    "    print(\"    Elasped time: \" + str(exec_time))\n",
    "    print(\"  end uploading segment data\")        \n",
    "except Exception as e:\n",
    "    print('!!! Unexpected error: ' + str(e))\n",
    "finally:\n",
    "    print('FINISH')"
   ]
  },
  {
   "cell_type": "markdown",
   "metadata": {},
   "source": [
    "### View segments inside Yandex.Audience"
   ]
  },
  {
   "cell_type": "code",
   "execution_count": null,
   "metadata": {},
   "outputs": [],
   "source": [
    "try:\n",
    "    print('START')\n",
    "    print(\"  start receiving segments info\")\n",
    "    start = datetime.datetime.now()\n",
    "    \n",
    "    ya = yaaudience.YaAudience(token=c_ya_token)\n",
    "    ya_segments = ya.segments()\n",
    "\n",
    "    exec_time = datetime.datetime.now() - start          \n",
    "    print(\"    Elasped time: \" + str(exec_time))\n",
    "    print(\"  end receiving segments info\")        \n",
    "    \n",
    "    print(\"  Segments Count: \", ya_segments.__len__())            \n",
    "    print(\"  Segments Details:\")            \n",
    "    for ya_segment in ya_segments:\n",
    "        print(ya_segment)    \n",
    "except Exception as e:\n",
    "    print('!!! Unexpected error: ' + str(e))\n",
    "finally:\n",
    "    print('FINISH')"
   ]
  },
  {
   "cell_type": "markdown",
   "metadata": {},
   "source": [
    "### Delete existing segment"
   ]
  },
  {
   "cell_type": "code",
   "execution_count": null,
   "metadata": {},
   "outputs": [],
   "source": [
    "segment_id_for_delete = '123456789'\n",
    "\n",
    "try:\n",
    "    print('START')\n",
    "    print(\"  start deleting segment\")\n",
    "    start = datetime.datetime.now()\n",
    "\n",
    "    if (segment_id_for_delete is None or segment_id_for_delete == ''):\n",
    "        raise Exception('You mast set SEGMENT_ID for deleting!!!') \n",
    "\n",
    "    ya = yaaudience.YaAudience(token=c_ya_token)\n",
    "\n",
    "    ya_is_segment_deleted = ya.segment_delete(segment_id=int(segment_id_for_delete))\n",
    "\n",
    "    exec_time = datetime.datetime.now() - start          \n",
    "    print(\"    Elasped time: \" + str(exec_time))\n",
    "    print(\"  end deleting segment\")        \n",
    "    \n",
    "    print('  Is segment deleted? ' + str(ya_is_segment_deleted))    \n",
    "except Exception as e:\n",
    "    print('!!! Unexpected error: ' + str(e))\n",
    "finally:\n",
    "    print('FINISH')"
   ]
  }
 ],
 "metadata": {
  "kernelspec": {
   "display_name": "Python 3",
   "language": "python",
   "name": "python3"
  },
  "language_info": {
   "codemirror_mode": {
    "name": "ipython",
    "version": 3
   },
   "file_extension": ".py",
   "mimetype": "text/x-python",
   "name": "python",
   "nbconvert_exporter": "python",
   "pygments_lexer": "ipython3",
   "version": "3.6.4"
  }
 },
 "nbformat": 4,
 "nbformat_minor": 2
}
